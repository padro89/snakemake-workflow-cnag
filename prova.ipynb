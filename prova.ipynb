{
 "cells": [
  {
   "cell_type": "code",
   "execution_count": 1,
   "metadata": {},
   "outputs": [],
   "source": [
    "import pandas as pd\n",
    "reactome = pd.read_csv(\"Ensembl2Reactome_All_Levels.txt\", sep = \"\\t\")"
   ]
  },
  {
   "cell_type": "code",
   "execution_count": 2,
   "metadata": {},
   "outputs": [
    {
     "data": {
      "text/plain": [
       "<bound method NDFrame.head of            26364   R-BTA-162582  \\\n",
       "0          26364   R-BTA-195253   \n",
       "1          26364   R-BTA-195721   \n",
       "2          26364   R-BTA-196299   \n",
       "3          26364   R-BTA-201681   \n",
       "4          26364   R-BTA-392499   \n",
       "...          ...            ...   \n",
       "2774793  YPR188C  R-SCE-9716542   \n",
       "2774794  YPR193C  R-SCE-1430728   \n",
       "2774795  YPR193C   R-SCE-351200   \n",
       "2774796  YPR193C   R-SCE-351202   \n",
       "2774797  YPR193C    R-SCE-71291   \n",
       "\n",
       "        https://reactome.org/PathwayBrowser/#/R-BTA-162582  \\\n",
       "0        https://reactome.org/PathwayBrowser/#/R-BTA-19...   \n",
       "1        https://reactome.org/PathwayBrowser/#/R-BTA-19...   \n",
       "2        https://reactome.org/PathwayBrowser/#/R-BTA-19...   \n",
       "3        https://reactome.org/PathwayBrowser/#/R-BTA-20...   \n",
       "4        https://reactome.org/PathwayBrowser/#/R-BTA-39...   \n",
       "...                                                    ...   \n",
       "2774793  https://reactome.org/PathwayBrowser/#/R-SCE-97...   \n",
       "2774794  https://reactome.org/PathwayBrowser/#/R-SCE-14...   \n",
       "2774795  https://reactome.org/PathwayBrowser/#/R-SCE-35...   \n",
       "2774796  https://reactome.org/PathwayBrowser/#/R-SCE-35...   \n",
       "2774797  https://reactome.org/PathwayBrowser/#/R-SCE-71291   \n",
       "\n",
       "                                       Signal Transduction  IEA  \\\n",
       "0        Degradation of beta-catenin by the destruction...  IEA   \n",
       "1                                         Signaling by WNT  IEA   \n",
       "2                     Beta-catenin phosphorylation cascade  IEA   \n",
       "3               TCF dependent signaling in response to WNT  IEA   \n",
       "4                                   Metabolism of proteins  IEA   \n",
       "...                                                    ...  ...   \n",
       "2774793  Signaling by Rho GTPases, Miro GTPases and RHO...  IEA   \n",
       "2774794                                         Metabolism  IEA   \n",
       "2774795                      Interconversion of polyamines  IEA   \n",
       "2774796                           Metabolism of polyamines  IEA   \n",
       "2774797          Metabolism of amino acids and derivatives  IEA   \n",
       "\n",
       "                       Bos taurus  \n",
       "0                      Bos taurus  \n",
       "1                      Bos taurus  \n",
       "2                      Bos taurus  \n",
       "3                      Bos taurus  \n",
       "4                      Bos taurus  \n",
       "...                           ...  \n",
       "2774793  Saccharomyces cerevisiae  \n",
       "2774794  Saccharomyces cerevisiae  \n",
       "2774795  Saccharomyces cerevisiae  \n",
       "2774796  Saccharomyces cerevisiae  \n",
       "2774797  Saccharomyces cerevisiae  \n",
       "\n",
       "[2774798 rows x 6 columns]>"
      ]
     },
     "execution_count": 2,
     "metadata": {},
     "output_type": "execute_result"
    }
   ],
   "source": [
    "reactome.head"
   ]
  }
 ],
 "metadata": {
  "interpreter": {
   "hash": "e7370f93d1d0cde622a1f8e1c04877d8463912d04d973331ad4851f04de6915a"
  },
  "kernelspec": {
   "display_name": "Python 3.10.4 64-bit",
   "language": "python",
   "name": "python3"
  },
  "language_info": {
   "codemirror_mode": {
    "name": "ipython",
    "version": 3
   },
   "file_extension": ".py",
   "mimetype": "text/x-python",
   "name": "python",
   "nbconvert_exporter": "python",
   "pygments_lexer": "ipython3",
   "version": "3.9.12"
  },
  "orig_nbformat": 4
 },
 "nbformat": 4,
 "nbformat_minor": 2
}
