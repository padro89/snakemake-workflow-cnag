{
 "cells": [
  {
   "cell_type": "code",
   "execution_count": 29,
   "metadata": {},
   "outputs": [],
   "source": [
    "import pandas as pd\n",
    "reactome = pd.read_csv(\"Ensembl2Reactome_All_Levels.txt\", sep = \"\\t\")"
   ]
  },
  {
   "cell_type": "code",
   "execution_count": 30,
   "metadata": {},
   "outputs": [
    {
     "data": {
      "text/plain": [
       "(2774798, 6)"
      ]
     },
     "execution_count": 30,
     "metadata": {},
     "output_type": "execute_result"
    }
   ],
   "source": [
    "reactome.shape"
   ]
  },
  {
   "cell_type": "code",
   "execution_count": 43,
   "metadata": {},
   "outputs": [
    {
     "data": {
      "text/plain": [
       "<bound method NDFrame.head of                       ID                                            Pathway\n",
       "659294   ENSG00000000419            Synthesis of dolichyl-phosphate mannose\n",
       "659295   ENSG00000000419  Post-translational modification: synthesis of ...\n",
       "659296   ENSG00000000419                                            Disease\n",
       "659297   ENSG00000000419                          Diseases of glycosylation\n",
       "659298   ENSG00000000419                             Metabolism of proteins\n",
       "...                  ...                                                ...\n",
       "2562643  ENST00000680121                                SARS-CoV Infections\n",
       "2562644  ENST00000680121                               SARS-CoV-2 Infection\n",
       "2562645  ENST00000680121                               SARS-CoV-2 Infection\n",
       "2562646  ENST00000680121                               Attachment and Entry\n",
       "2562647  ENST00000680121                               Attachment and Entry\n",
       "\n",
       "[897097 rows x 2 columns]>"
      ]
     },
     "execution_count": 43,
     "metadata": {},
     "output_type": "execute_result"
    }
   ],
   "source": [
    "\n",
    "filtered = reactome.iloc[:,[0,3,5]]\n",
    "filtered.columns = [\"ID\",\"Pathway\",\"Species\"]\n",
    "species = filtered[filtered.Species.eq(\"Homo sapiens\")]\n",
    "species = species.iloc[:,[0,1]]\n",
    "species.head"
   ]
  }
 ],
 "metadata": {
  "interpreter": {
   "hash": "e7370f93d1d0cde622a1f8e1c04877d8463912d04d973331ad4851f04de6915a"
  },
  "kernelspec": {
   "display_name": "Python 3.10.4 64-bit",
   "language": "python",
   "name": "python3"
  },
  "language_info": {
   "codemirror_mode": {
    "name": "ipython",
    "version": 3
   },
   "file_extension": ".py",
   "mimetype": "text/x-python",
   "name": "python",
   "nbconvert_exporter": "python",
   "pygments_lexer": "ipython3",
   "version": "3.9.12"
  },
  "orig_nbformat": 4
 },
 "nbformat": 4,
 "nbformat_minor": 2
}
